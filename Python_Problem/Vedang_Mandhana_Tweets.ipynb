{
 "cells": [
  {
   "cell_type": "markdown",
   "metadata": {},
   "source": [
    "# Extracting Tweets from @midasIIITD handle on Twitter"
   ]
  },
  {
   "cell_type": "markdown",
   "metadata": {},
   "source": [
    "### Including libraries"
   ]
  },
  {
   "cell_type": "code",
   "execution_count": 1,
   "metadata": {},
   "outputs": [],
   "source": [
    "import tweepy\n",
    "import jsonlines\n",
    "import pandas as pd\n",
    "from tweepy import OAuthHandler"
   ]
  },
  {
   "cell_type": "markdown",
   "metadata": {},
   "source": [
    "### Provide consumer key, consumer secret, access token and access secret provided by Twitter API"
   ]
  },
  {
   "cell_type": "code",
   "execution_count": 2,
   "metadata": {},
   "outputs": [],
   "source": [
    "consumer_key = \"\"\n",
    "consumer_secret = \"\"\n",
    "access_token = \"\"\n",
    "access_secret = \"\""
   ]
  },
  {
   "cell_type": "markdown",
   "metadata": {},
   "source": [
    "### Authenticating Python application"
   ]
  },
  {
   "cell_type": "code",
   "execution_count": 3,
   "metadata": {},
   "outputs": [],
   "source": [
    "auth = OAuthHandler(consumer_key, consumer_secret)\n",
    "auth.set_access_token(access_token, access_secret)"
   ]
  },
  {
   "cell_type": "markdown",
   "metadata": {},
   "source": [
    "### Create API"
   ]
  },
  {
   "cell_type": "code",
   "execution_count": 4,
   "metadata": {},
   "outputs": [],
   "source": [
    "api = tweepy.API(auth)"
   ]
  },
  {
   "cell_type": "markdown",
   "metadata": {},
   "source": [
    "### Fetching all tweets and storing in empty list"
   ]
  },
  {
   "cell_type": "code",
   "execution_count": 5,
   "metadata": {},
   "outputs": [],
   "source": [
    "result=[]"
   ]
  },
  {
   "cell_type": "markdown",
   "metadata": {},
   "source": [
    "> Loops till all tweets are not fetched"
   ]
  },
  {
   "cell_type": "code",
   "execution_count": 6,
   "metadata": {},
   "outputs": [],
   "source": [
    "name = \"midasIIITD\"\n",
    "for status in tweepy.Cursor(api.user_timeline, screen_name='midasIIITD', retweet_mode='extended', tweet_mode=\"extended\").items():\n",
    "    result.append(status)"
   ]
  },
  {
   "cell_type": "code",
   "execution_count": 19,
   "metadata": {},
   "outputs": [
    {
     "name": "stdout",
     "output_type": "stream",
     "text": [
      "No. of tweets fetched: 343\n"
     ]
    }
   ],
   "source": [
    "print(\"No. of tweets fetched: \" + str(len(result)))"
   ]
  },
  {
   "cell_type": "markdown",
   "metadata": {},
   "source": [
    "### Write all elements of the list i.e. Tweet details into JSONlines file"
   ]
  },
  {
   "cell_type": "code",
   "execution_count": 8,
   "metadata": {},
   "outputs": [],
   "source": [
    "with jsonlines.open('output.jsonl', mode='w') as writer:\n",
    "    for res in result:\n",
    "        writer.write(res._json)"
   ]
  },
  {
   "cell_type": "markdown",
   "metadata": {},
   "source": [
    "### Examining format of object"
   ]
  },
  {
   "cell_type": "markdown",
   "metadata": {},
   "source": [
    "> Object"
   ]
  },
  {
   "cell_type": "code",
   "execution_count": 9,
   "metadata": {},
   "outputs": [
    {
     "data": {
      "text/plain": [
       "{'created_at': 'Wed Apr 10 04:51:26 +0000 2019',\n",
       " 'id': 1115839682607239173,\n",
       " 'id_str': '1115839682607239173',\n",
       " 'full_text': 'RT @IIITDelhi: Applications open for MTech (CB) through JNU CEEB Admission process. Candidates can check the JNU CEEB admission process in…',\n",
       " 'truncated': False,\n",
       " 'display_text_range': [0, 139],\n",
       " 'entities': {'hashtags': [],\n",
       "  'symbols': [],\n",
       "  'user_mentions': [{'screen_name': 'IIITDelhi',\n",
       "    'name': 'IIIT Delhi',\n",
       "    'id': 2227868629,\n",
       "    'id_str': '2227868629',\n",
       "    'indices': [3, 13]}],\n",
       "  'urls': []},\n",
       " 'source': '<a href=\"http://twitter.com\" rel=\"nofollow\">Twitter Web Client</a>',\n",
       " 'in_reply_to_status_id': None,\n",
       " 'in_reply_to_status_id_str': None,\n",
       " 'in_reply_to_user_id': None,\n",
       " 'in_reply_to_user_id_str': None,\n",
       " 'in_reply_to_screen_name': None,\n",
       " 'user': {'id': 1021355762575073281,\n",
       "  'id_str': '1021355762575073281',\n",
       "  'name': 'MIDAS IIITD',\n",
       "  'screen_name': 'midasIIITD',\n",
       "  'location': 'New Delhi, India',\n",
       "  'description': 'MIDAS is a group of researchers at IIIT-Delhi who study, analyze, and build different multimedia systems for society leveraging multimodal information.',\n",
       "  'url': 'https://t.co/Uwg7oSM6mE',\n",
       "  'entities': {'url': {'urls': [{'url': 'https://t.co/Uwg7oSM6mE',\n",
       "      'expanded_url': 'http://midas.iiitd.edu.in/',\n",
       "      'display_url': 'midas.iiitd.edu.in',\n",
       "      'indices': [0, 23]}]},\n",
       "   'description': {'urls': []}},\n",
       "  'protected': False,\n",
       "  'followers_count': 290,\n",
       "  'friends_count': 43,\n",
       "  'listed_count': 0,\n",
       "  'created_at': 'Mon Jul 23 11:26:04 +0000 2018',\n",
       "  'favourites_count': 143,\n",
       "  'utc_offset': None,\n",
       "  'time_zone': None,\n",
       "  'geo_enabled': False,\n",
       "  'verified': False,\n",
       "  'statuses_count': 343,\n",
       "  'lang': 'en',\n",
       "  'contributors_enabled': False,\n",
       "  'is_translator': False,\n",
       "  'is_translation_enabled': False,\n",
       "  'profile_background_color': 'F5F8FA',\n",
       "  'profile_background_image_url': None,\n",
       "  'profile_background_image_url_https': None,\n",
       "  'profile_background_tile': False,\n",
       "  'profile_image_url': 'http://pbs.twimg.com/profile_images/1021356444921212928/WmSTJCUs_normal.jpg',\n",
       "  'profile_image_url_https': 'https://pbs.twimg.com/profile_images/1021356444921212928/WmSTJCUs_normal.jpg',\n",
       "  'profile_banner_url': 'https://pbs.twimg.com/profile_banners/1021355762575073281/1554320878',\n",
       "  'profile_link_color': '1DA1F2',\n",
       "  'profile_sidebar_border_color': 'C0DEED',\n",
       "  'profile_sidebar_fill_color': 'DDEEF6',\n",
       "  'profile_text_color': '333333',\n",
       "  'profile_use_background_image': True,\n",
       "  'has_extended_profile': False,\n",
       "  'default_profile': True,\n",
       "  'default_profile_image': False,\n",
       "  'following': False,\n",
       "  'follow_request_sent': False,\n",
       "  'notifications': False,\n",
       "  'translator_type': 'none'},\n",
       " 'geo': None,\n",
       " 'coordinates': None,\n",
       " 'place': None,\n",
       " 'contributors': None,\n",
       " 'retweeted_status': {'created_at': 'Wed Apr 10 04:28:24 +0000 2019',\n",
       "  'id': 1115833888679571456,\n",
       "  'id_str': '1115833888679571456',\n",
       "  'full_text': 'Applications open for MTech (CB) through JNU CEEB Admission process. Candidates can check the JNU CEEB admission process in the following links : \\nJNU CEEB - https://t.co/ciq1scu9Pm  \\nIIITD - https://t.co/orPaYEeKBL https://t.co/l816beuIXr',\n",
       "  'truncated': False,\n",
       "  'display_text_range': [0, 215],\n",
       "  'entities': {'hashtags': [],\n",
       "   'symbols': [],\n",
       "   'user_mentions': [],\n",
       "   'urls': [{'url': 'https://t.co/ciq1scu9Pm',\n",
       "     'expanded_url': 'https://ntajnu.nic.in/GenRegSysCms/public/home.aspx',\n",
       "     'display_url': 'ntajnu.nic.in/GenRegSysCms/p…',\n",
       "     'indices': [158, 181]},\n",
       "    {'url': 'https://t.co/orPaYEeKBL',\n",
       "     'expanded_url': 'https://www.iiitd.ac.in/admission/mtech/2019/cb-details',\n",
       "     'display_url': 'iiitd.ac.in/admission/mtec…',\n",
       "     'indices': [192, 215]}],\n",
       "   'media': [{'id': 1115833839983759363,\n",
       "     'id_str': '1115833839983759363',\n",
       "     'indices': [216, 239],\n",
       "     'media_url': 'http://pbs.twimg.com/media/D3w89yyXkAMlhtA.jpg',\n",
       "     'media_url_https': 'https://pbs.twimg.com/media/D3w89yyXkAMlhtA.jpg',\n",
       "     'url': 'https://t.co/l816beuIXr',\n",
       "     'display_url': 'pic.twitter.com/l816beuIXr',\n",
       "     'expanded_url': 'https://twitter.com/IIITDelhi/status/1115833888679571456/photo/1',\n",
       "     'type': 'photo',\n",
       "     'sizes': {'thumb': {'w': 150, 'h': 150, 'resize': 'crop'},\n",
       "      'large': {'w': 1365, 'h': 2048, 'resize': 'fit'},\n",
       "      'small': {'w': 453, 'h': 680, 'resize': 'fit'},\n",
       "      'medium': {'w': 800, 'h': 1200, 'resize': 'fit'}}}]},\n",
       "  'extended_entities': {'media': [{'id': 1115833839983759363,\n",
       "     'id_str': '1115833839983759363',\n",
       "     'indices': [216, 239],\n",
       "     'media_url': 'http://pbs.twimg.com/media/D3w89yyXkAMlhtA.jpg',\n",
       "     'media_url_https': 'https://pbs.twimg.com/media/D3w89yyXkAMlhtA.jpg',\n",
       "     'url': 'https://t.co/l816beuIXr',\n",
       "     'display_url': 'pic.twitter.com/l816beuIXr',\n",
       "     'expanded_url': 'https://twitter.com/IIITDelhi/status/1115833888679571456/photo/1',\n",
       "     'type': 'photo',\n",
       "     'sizes': {'thumb': {'w': 150, 'h': 150, 'resize': 'crop'},\n",
       "      'large': {'w': 1365, 'h': 2048, 'resize': 'fit'},\n",
       "      'small': {'w': 453, 'h': 680, 'resize': 'fit'},\n",
       "      'medium': {'w': 800, 'h': 1200, 'resize': 'fit'}}}]},\n",
       "  'source': '<a href=\"http://twitter.com\" rel=\"nofollow\">Twitter Web Client</a>',\n",
       "  'in_reply_to_status_id': None,\n",
       "  'in_reply_to_status_id_str': None,\n",
       "  'in_reply_to_user_id': None,\n",
       "  'in_reply_to_user_id_str': None,\n",
       "  'in_reply_to_screen_name': None,\n",
       "  'user': {'id': 2227868629,\n",
       "   'id_str': '2227868629',\n",
       "   'name': 'IIIT Delhi',\n",
       "   'screen_name': 'IIITDelhi',\n",
       "   'location': 'New Delhi, India',\n",
       "   'description': 'Official Twitter handle of Indraprastha Institute of Information Technology, Delhi (IIIT-D)',\n",
       "   'url': 'http://t.co/Shz3rGJG0f',\n",
       "   'entities': {'url': {'urls': [{'url': 'http://t.co/Shz3rGJG0f',\n",
       "       'expanded_url': 'http://www.iiitd.ac.in',\n",
       "       'display_url': 'iiitd.ac.in',\n",
       "       'indices': [0, 22]}]},\n",
       "    'description': {'urls': []}},\n",
       "   'protected': False,\n",
       "   'followers_count': 1578,\n",
       "   'friends_count': 50,\n",
       "   'listed_count': 40,\n",
       "   'created_at': 'Tue Dec 03 07:27:35 +0000 2013',\n",
       "   'favourites_count': 1309,\n",
       "   'utc_offset': None,\n",
       "   'time_zone': None,\n",
       "   'geo_enabled': False,\n",
       "   'verified': False,\n",
       "   'statuses_count': 1969,\n",
       "   'lang': 'en',\n",
       "   'contributors_enabled': False,\n",
       "   'is_translator': False,\n",
       "   'is_translation_enabled': False,\n",
       "   'profile_background_color': '000000',\n",
       "   'profile_background_image_url': 'http://abs.twimg.com/images/themes/theme1/bg.png',\n",
       "   'profile_background_image_url_https': 'https://abs.twimg.com/images/themes/theme1/bg.png',\n",
       "   'profile_background_tile': False,\n",
       "   'profile_image_url': 'http://pbs.twimg.com/profile_images/710727346148409344/88A6YRY2_normal.jpg',\n",
       "   'profile_image_url_https': 'https://pbs.twimg.com/profile_images/710727346148409344/88A6YRY2_normal.jpg',\n",
       "   'profile_banner_url': 'https://pbs.twimg.com/profile_banners/2227868629/1466086346',\n",
       "   'profile_link_color': '3FADA8',\n",
       "   'profile_sidebar_border_color': '000000',\n",
       "   'profile_sidebar_fill_color': '000000',\n",
       "   'profile_text_color': '000000',\n",
       "   'profile_use_background_image': False,\n",
       "   'has_extended_profile': False,\n",
       "   'default_profile': False,\n",
       "   'default_profile_image': False,\n",
       "   'following': False,\n",
       "   'follow_request_sent': False,\n",
       "   'notifications': False,\n",
       "   'translator_type': 'none'},\n",
       "  'geo': None,\n",
       "  'coordinates': None,\n",
       "  'place': None,\n",
       "  'contributors': None,\n",
       "  'is_quote_status': False,\n",
       "  'retweet_count': 1,\n",
       "  'favorite_count': 3,\n",
       "  'favorited': False,\n",
       "  'retweeted': False,\n",
       "  'possibly_sensitive': False,\n",
       "  'lang': 'en'},\n",
       " 'is_quote_status': False,\n",
       " 'retweet_count': 1,\n",
       " 'favorite_count': 0,\n",
       " 'favorited': False,\n",
       " 'retweeted': False,\n",
       " 'lang': 'en'}"
      ]
     },
     "execution_count": 9,
     "metadata": {},
     "output_type": "execute_result"
    }
   ],
   "source": [
    "result[0]._json"
   ]
  },
  {
   "cell_type": "markdown",
   "metadata": {},
   "source": [
    "> Checking whether text is tweet or subtweet and giving output accordingly"
   ]
  },
  {
   "cell_type": "code",
   "execution_count": 10,
   "metadata": {},
   "outputs": [
    {
     "name": "stdout",
     "output_type": "stream",
     "text": [
      "Applications open for MTech (CB) through JNU CEEB Admission process. Candidates can check the JNU CEEB admission process in the following links : \n",
      "JNU CEEB - https://t.co/ciq1scu9Pm  \n",
      "IIITD - https://t.co/orPaYEeKBL https://t.co/l816beuIXr\n"
     ]
    }
   ],
   "source": [
    "full_text_retweeted = result[0]._json.get(\"retweeted_status\")\n",
    "\n",
    "if None != full_text_retweeted:\n",
    "    ft = str(full_text_retweeted[\"full_text\"])\n",
    "else:\n",
    "    ft = str(result[0]._json[\"full_text\"])\n",
    "    \n",
    "print(ft)"
   ]
  },
  {
   "cell_type": "markdown",
   "metadata": {},
   "source": [
    "> Seperating string of 'created_at' into different objects in list"
   ]
  },
  {
   "cell_type": "code",
   "execution_count": 11,
   "metadata": {},
   "outputs": [
    {
     "name": "stdout",
     "output_type": "stream",
     "text": [
      "['Wed', 'Apr', '10', '04:51:26', '+0000', '2019']\n"
     ]
    }
   ],
   "source": [
    "dt = result[0]._json['created_at'].split(' ')\n",
    "print(dt)"
   ]
  },
  {
   "cell_type": "markdown",
   "metadata": {},
   "source": [
    "> Extracting favorite count and retweet count"
   ]
  },
  {
   "cell_type": "code",
   "execution_count": 12,
   "metadata": {},
   "outputs": [
    {
     "name": "stdout",
     "output_type": "stream",
     "text": [
      "Favorite count: 0\n",
      "Retweet count: 1\n"
     ]
    }
   ],
   "source": [
    "fc = result[0]._json['favorite_count']\n",
    "rc = result[0]._json['retweet_count']\n",
    "print(\"Favorite count: \" + str(fc))\n",
    "print(\"Retweet count: \" + str(rc))"
   ]
  },
  {
   "cell_type": "markdown",
   "metadata": {},
   "source": [
    "> Extracting media files URLs"
   ]
  },
  {
   "cell_type": "code",
   "execution_count": 13,
   "metadata": {},
   "outputs": [
    {
     "name": "stdout",
     "output_type": "stream",
     "text": [
      "{'media': [{'id': 1115149307798224898, 'id_str': '1115149307798224898', 'indices': [280, 303], 'media_url': 'http://pbs.twimg.com/media/D3nOYxrWAAIv5Cx.jpg', 'media_url_https': 'https://pbs.twimg.com/media/D3nOYxrWAAIv5Cx.jpg', 'url': 'https://t.co/snX2GkzvQg', 'display_url': 'pic.twitter.com/snX2GkzvQg', 'expanded_url': 'https://twitter.com/midasIIITD/status/1115149324533542912/photo/1', 'type': 'photo', 'sizes': {'thumb': {'w': 150, 'h': 150, 'resize': 'crop'}, 'large': {'w': 960, 'h': 1123, 'resize': 'fit'}, 'medium': {'w': 960, 'h': 1123, 'resize': 'fit'}, 'small': {'w': 581, 'h': 680, 'resize': 'fit'}}}]}\n"
     ]
    }
   ],
   "source": [
    "try:\n",
    "    noi = result[5]._json['extended_entities']\n",
    "except:\n",
    "    noi=0\n",
    "print(noi)"
   ]
  },
  {
   "cell_type": "markdown",
   "metadata": {},
   "source": [
    "### Features extracted:\n",
    "> 'full_text' contains the entire text of the Tweet  \n",
    "> 'created_at' gives the date and time of the Tweet  \n",
    "> 'favorite_count' gives no. of likes/favorites of the post  \n",
    "> 'retweet_count' gives no. of retweets of the post  \n",
    ">  'extended_entities' gives all the media available with the post"
   ]
  },
  {
   "cell_type": "code",
   "execution_count": 14,
   "metadata": {},
   "outputs": [],
   "source": [
    "count=0\n",
    "with jsonlines.open('output.jsonl') as reader:\n",
    "    pl=[]\n",
    "    for obj in reader:\n",
    "        \n",
    "        tl=[]\n",
    "        \n",
    "        full_text_retweeted = obj.get(\"retweeted_status\") #get retweeted status\n",
    "\n",
    "        if None != full_text_retweeted: #if retweeted\n",
    "            ft = str(full_text_retweeted[\"full_text\"]) #get text of retweet\n",
    "            rt=\"Yes\" #set retweeted status as 'yes'\n",
    "        else:\n",
    "            ft = str(obj[\"full_text\"]) #get text of tweet\n",
    "            rt=\"No\" #set retweeted status as 'no'\n",
    "\n",
    "        dt = obj['created_at'].split(' ') #split string and store in list\n",
    "        date = \"\"\n",
    "        date = str(dt[1]) + \"-\" + str(dt[2]) + \"-\" + str(dt[5]) #combine elements from list to create date\n",
    "        time = str(dt[3]) #combine elements from list to create time\n",
    "        \n",
    "        fc = obj['favorite_count']\n",
    "        rc = obj['retweet_count']\n",
    "        \n",
    "        count+=1\n",
    "        \n",
    "        try:\n",
    "            noi = len(obj['extended_entities']) #length of the list of 'extended_entities gives no. of media files\n",
    "        except:\n",
    "            noi=0\n",
    "        \n",
    "        if(noi==0):\n",
    "            noi=str('None')\n",
    "        \n",
    "        tl=[ft, date, time, fc, rc, noi, rt] #store all values in temporary list\n",
    "        pl.append(tl) #append values of temporary list to permanent list"
   ]
  },
  {
   "cell_type": "markdown",
   "metadata": {},
   "source": [
    "### Convert to DataFrame"
   ]
  },
  {
   "cell_type": "code",
   "execution_count": 15,
   "metadata": {},
   "outputs": [],
   "source": [
    "pl = pd.DataFrame(pl)"
   ]
  },
  {
   "cell_type": "markdown",
   "metadata": {},
   "source": [
    "### Assign column names"
   ]
  },
  {
   "cell_type": "code",
   "execution_count": 16,
   "metadata": {},
   "outputs": [],
   "source": [
    "pl.columns = [\"Text\", \"Date\", \"Time\", \"Favorite_count\", \"Retweet_count\", \"count_media_files\", \"Retweet\"]"
   ]
  },
  {
   "cell_type": "code",
   "execution_count": 17,
   "metadata": {},
   "outputs": [
    {
     "data": {
      "text/html": [
       "<div>\n",
       "<style scoped>\n",
       "    .dataframe tbody tr th:only-of-type {\n",
       "        vertical-align: middle;\n",
       "    }\n",
       "\n",
       "    .dataframe tbody tr th {\n",
       "        vertical-align: top;\n",
       "    }\n",
       "\n",
       "    .dataframe thead th {\n",
       "        text-align: right;\n",
       "    }\n",
       "</style>\n",
       "<table border=\"1\" class=\"dataframe\">\n",
       "  <thead>\n",
       "    <tr style=\"text-align: right;\">\n",
       "      <th></th>\n",
       "      <th>Text</th>\n",
       "      <th>Date</th>\n",
       "      <th>Time</th>\n",
       "      <th>Favorite_count</th>\n",
       "      <th>Retweet_count</th>\n",
       "      <th>count_media_files</th>\n",
       "      <th>Retweet</th>\n",
       "    </tr>\n",
       "  </thead>\n",
       "  <tbody>\n",
       "    <tr>\n",
       "      <th>0</th>\n",
       "      <td>Applications open for MTech (CB) through JNU C...</td>\n",
       "      <td>Apr-10-2019</td>\n",
       "      <td>04:51:26</td>\n",
       "      <td>0</td>\n",
       "      <td>1</td>\n",
       "      <td>None</td>\n",
       "      <td>Yes</td>\n",
       "    </tr>\n",
       "    <tr>\n",
       "      <th>1</th>\n",
       "      <td>We are delighted to share that IIIT-Delhi is r...</td>\n",
       "      <td>Apr-09-2019</td>\n",
       "      <td>16:45:07</td>\n",
       "      <td>0</td>\n",
       "      <td>13</td>\n",
       "      <td>None</td>\n",
       "      <td>Yes</td>\n",
       "    </tr>\n",
       "    <tr>\n",
       "      <th>2</th>\n",
       "      <td>Professor Jelani Nelson founded AddisCoder, a ...</td>\n",
       "      <td>Apr-09-2019</td>\n",
       "      <td>05:04:27</td>\n",
       "      <td>0</td>\n",
       "      <td>35</td>\n",
       "      <td>None</td>\n",
       "      <td>Yes</td>\n",
       "    </tr>\n",
       "    <tr>\n",
       "      <th>3</th>\n",
       "      <td>For anyone interested in submitting to EMNLP 2...</td>\n",
       "      <td>Apr-09-2019</td>\n",
       "      <td>05:04:11</td>\n",
       "      <td>0</td>\n",
       "      <td>16</td>\n",
       "      <td>None</td>\n",
       "      <td>Yes</td>\n",
       "    </tr>\n",
       "    <tr>\n",
       "      <th>4</th>\n",
       "      <td>Announcing the 2019 MediaEval multimedia tasks...</td>\n",
       "      <td>Apr-08-2019</td>\n",
       "      <td>19:38:09</td>\n",
       "      <td>0</td>\n",
       "      <td>15</td>\n",
       "      <td>None</td>\n",
       "      <td>Yes</td>\n",
       "    </tr>\n",
       "    <tr>\n",
       "      <th>5</th>\n",
       "      <td>Many Congratulations to @midasIIITD student, S...</td>\n",
       "      <td>Apr-08-2019</td>\n",
       "      <td>07:08:12</td>\n",
       "      <td>18</td>\n",
       "      <td>2</td>\n",
       "      <td>1</td>\n",
       "      <td>No</td>\n",
       "    </tr>\n",
       "    <tr>\n",
       "      <th>6</th>\n",
       "      <td>@midasIIITD thanks all students who have appea...</td>\n",
       "      <td>Apr-08-2019</td>\n",
       "      <td>03:27:42</td>\n",
       "      <td>5</td>\n",
       "      <td>0</td>\n",
       "      <td>1</td>\n",
       "      <td>No</td>\n",
       "    </tr>\n",
       "    <tr>\n",
       "      <th>7</th>\n",
       "      <td>@himanchalchandr Meanwhile, complete CV/NLP ta...</td>\n",
       "      <td>Apr-07-2019</td>\n",
       "      <td>14:17:29</td>\n",
       "      <td>0</td>\n",
       "      <td>0</td>\n",
       "      <td>None</td>\n",
       "      <td>No</td>\n",
       "    </tr>\n",
       "    <tr>\n",
       "      <th>8</th>\n",
       "      <td>@sayangdipto123 Submit as per the guideline ag...</td>\n",
       "      <td>Apr-07-2019</td>\n",
       "      <td>14:17:09</td>\n",
       "      <td>0</td>\n",
       "      <td>0</td>\n",
       "      <td>None</td>\n",
       "      <td>No</td>\n",
       "    </tr>\n",
       "    <tr>\n",
       "      <th>9</th>\n",
       "      <td>We request all students whose interview are sc...</td>\n",
       "      <td>Apr-07-2019</td>\n",
       "      <td>11:43:24</td>\n",
       "      <td>1</td>\n",
       "      <td>1</td>\n",
       "      <td>None</td>\n",
       "      <td>No</td>\n",
       "    </tr>\n",
       "  </tbody>\n",
       "</table>\n",
       "</div>"
      ],
      "text/plain": [
       "                                                Text         Date      Time  \\\n",
       "0  Applications open for MTech (CB) through JNU C...  Apr-10-2019  04:51:26   \n",
       "1  We are delighted to share that IIIT-Delhi is r...  Apr-09-2019  16:45:07   \n",
       "2  Professor Jelani Nelson founded AddisCoder, a ...  Apr-09-2019  05:04:27   \n",
       "3  For anyone interested in submitting to EMNLP 2...  Apr-09-2019  05:04:11   \n",
       "4  Announcing the 2019 MediaEval multimedia tasks...  Apr-08-2019  19:38:09   \n",
       "5  Many Congratulations to @midasIIITD student, S...  Apr-08-2019  07:08:12   \n",
       "6  @midasIIITD thanks all students who have appea...  Apr-08-2019  03:27:42   \n",
       "7  @himanchalchandr Meanwhile, complete CV/NLP ta...  Apr-07-2019  14:17:29   \n",
       "8  @sayangdipto123 Submit as per the guideline ag...  Apr-07-2019  14:17:09   \n",
       "9  We request all students whose interview are sc...  Apr-07-2019  11:43:24   \n",
       "\n",
       "   Favorite_count  Retweet_count count_media_files Retweet  \n",
       "0               0              1              None     Yes  \n",
       "1               0             13              None     Yes  \n",
       "2               0             35              None     Yes  \n",
       "3               0             16              None     Yes  \n",
       "4               0             15              None     Yes  \n",
       "5              18              2                 1      No  \n",
       "6               5              0                 1      No  \n",
       "7               0              0              None      No  \n",
       "8               0              0              None      No  \n",
       "9               1              1              None      No  "
      ]
     },
     "execution_count": 17,
     "metadata": {},
     "output_type": "execute_result"
    }
   ],
   "source": [
    "pl.head(10)"
   ]
  },
  {
   "cell_type": "markdown",
   "metadata": {},
   "source": [
    "### Save DataFrame to .csv file"
   ]
  },
  {
   "cell_type": "code",
   "execution_count": 18,
   "metadata": {},
   "outputs": [],
   "source": [
    "pl.to_csv(\"tweets_midasIIITD.csv\")"
   ]
  }
 ],
 "metadata": {
  "kernelspec": {
   "display_name": "Python 3",
   "language": "python",
   "name": "python3"
  },
  "language_info": {
   "codemirror_mode": {
    "name": "ipython",
    "version": 3
   },
   "file_extension": ".py",
   "mimetype": "text/x-python",
   "name": "python",
   "nbconvert_exporter": "python",
   "pygments_lexer": "ipython3",
   "version": "3.6.8"
  }
 },
 "nbformat": 4,
 "nbformat_minor": 2
}
